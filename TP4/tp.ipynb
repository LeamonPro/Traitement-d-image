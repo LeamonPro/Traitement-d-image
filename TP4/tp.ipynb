{
 "cells": [
  {
   "cell_type": "code",
   "execution_count": 9,
   "metadata": {},
   "outputs": [],
   "source": [
    "import cv2\n",
    "import numpy as np\n",
    "import time"
   ]
  },
  {
   "cell_type": "code",
   "execution_count": 17,
   "metadata": {},
   "outputs": [],
   "source": [
    "vid = cv2.VideoCapture(\"Resources/Cars.mp4\")"
   ]
  },
  {
   "cell_type": "code",
   "execution_count": 11,
   "metadata": {},
   "outputs": [
    {
     "data": {
      "text/plain": [
       "755"
      ]
     },
     "execution_count": 11,
     "metadata": {},
     "output_type": "execute_result"
    }
   ],
   "source": [
    "vidlength=int(vid.get(cv2.CAP_PROP_FRAME_COUNT))\n",
    "vidlength\n"
   ]
  },
  {
   "cell_type": "code",
   "execution_count": 12,
   "metadata": {},
   "outputs": [
    {
     "data": {
      "text/plain": [
       "25"
      ]
     },
     "execution_count": 12,
     "metadata": {},
     "output_type": "execute_result"
    }
   ],
   "source": [
    "fps=int(vid.get(cv2.CAP_PROP_FPS))\n",
    "fps"
   ]
  },
  {
   "cell_type": "code",
   "execution_count": 13,
   "metadata": {},
   "outputs": [
    {
     "data": {
      "text/plain": [
       "25"
      ]
     },
     "execution_count": 13,
     "metadata": {},
     "output_type": "execute_result"
    }
   ],
   "source": [
    "fps1=int(cv2.VideoCapture.get(vid,propId=5))\n",
    "fps1"
   ]
  },
  {
   "cell_type": "code",
   "execution_count": 14,
   "metadata": {},
   "outputs": [
    {
     "name": "stdout",
     "output_type": "stream",
     "text": [
      "width =640.0, height=360.0\n"
     ]
    }
   ],
   "source": [
    "width=vid.get(cv2.CAP_PROP_FRAME_WIDTH)\n",
    "height=vid.get(cv2.CAP_PROP_FRAME_HEIGHT)\n",
    "print('width ={}, height={}'.format(width,height))"
   ]
  },
  {
   "cell_type": "code",
   "execution_count": 18,
   "metadata": {},
   "outputs": [],
   "source": [
    "time_start = time.time()\n",
    "count=20\n",
    "while (True ):\n",
    "    ret, frame = vid.read()\n",
    "    if not ret & (count>=20 & count<=30):\n",
    "        continue\n",
    "    cv2.imwrite(\"Resources/Image/\" + \"frame{}.jpg\".format(count), frame)\n",
    "    count = count + 1\n",
    "    if (count > 30):\n",
    "        time_end = time.time()\n",
    "        vid.release()\n",
    "        break\n"
   ]
  },
  {
   "cell_type": "markdown",
   "metadata": {},
   "source": [
    "cv2.videowriter(</br>\n",
    "    filename:nom du video </br>\n",
    "    fourcc:Code à 4 caractères du codec utilisé pour compresser les trames.</br>\n",
    "    fps:frame du video</br>\n",
    "    frameSize:le taille des frames du video</br>\n",
    "    isColor:Si elle est différente de zéro, l'encodeur attendra et encodera des images en couleur, sinon il travaillera avec des images en niveaux de gris.\n",
    ")"
   ]
  },
  {
   "cell_type": "code",
   "execution_count": 24,
   "metadata": {},
   "outputs": [],
   "source": [
    "cap=cv2.VideoCapture(\"Resources/Cars.mp4\")\n",
    "\n",
    "out=cv2.VideoWriter(\"Resources/Video/video1.avi\",0,10,(640,360))\n",
    "for i in range(20):\n",
    "    ret, frame = cap.read()\n",
    "    if ret==True:\n",
    "    \n",
    "\n",
    "        out.write(frame)\n",
    "        cv2.imshow('frame',frame)\n",
    "        if cv2.waitKey(1) & 0xFF == ord('q'):\n",
    "            break\n",
    "    else:\n",
    "        break\n",
    "cap.release()\n",
    "\n",
    "out.release()\n",
    "\n",
    "cv2.destroyAllWindows()\n"
   ]
  },
  {
   "cell_type": "code",
   "execution_count": 25,
   "metadata": {},
   "outputs": [],
   "source": [
    "cap=cv2.VideoCapture(\"Resources/Cars.mp4\")\n",
    "fourcc = cv2.VideoWriter_fourcc(*'XVID')\n",
    "out=cv2.VideoWriter(\"Resources/Video/video2.avi\",fourcc,10,(640,360))\n",
    "for i in range(20):\n",
    "    ret, frame = cap.read()\n",
    "    if ret==True:\n",
    "    \n",
    "\n",
    "        out.write(frame)\n",
    "        cv2.imshow('frame',frame)\n",
    "        if cv2.waitKey(1) & 0xFF == ord('q'):\n",
    "            break\n",
    "    else:\n",
    "        break\n",
    "cap.release()\n",
    "\n",
    "out.release()\n",
    "\n",
    "cv2.destroyAllWindows()"
   ]
  },
  {
   "cell_type": "code",
   "execution_count": 27,
   "metadata": {},
   "outputs": [
    {
     "data": {
      "text/plain": [
       "<function destroyAllWindows>"
      ]
     },
     "execution_count": 27,
     "metadata": {},
     "output_type": "execute_result"
    }
   ],
   "source": [
    "\n",
    "cap = cv2.VideoCapture(\"Resources/Cars.mp4\")\n",
    "fourcc = cv2.VideoWriter_fourcc(*'FMP4')\n",
    "out = cv2.VideoWriter('Resources/Video/video3.mp4',fourcc, 10.0, (640,360))\n",
    "i=0\n",
    "while(cap.isOpened() & i<=20):\n",
    "    i+=1\n",
    "    ret, frame = cap.read()\n",
    "    if ret==True:\n",
    "        out.write(frame)\n",
    "        cv2.imshow('frame',frame)\n",
    "        if cv2.waitKey(1) & 0xFF == ord('q'):\n",
    "            break\n",
    "    else:\n",
    "        break\n",
    "cap.release()\n",
    "out.release()\n",
    "cv2.destroyAllWindows\n"
   ]
  },
  {
   "cell_type": "code",
   "execution_count": 29,
   "metadata": {},
   "outputs": [],
   "source": [
    "cap=cv2.VideoCapture(\"Resources/Cars.mp4\")\n",
    "fourcc = cv2.VideoWriter_fourcc(*'PIM4')\n",
    "out=cv2.VideoWriter(\"Resources/Video/video4.mp4\",fourcc,10,(640,360))\n",
    "for i in range(20):\n",
    "    ret, frame = cap.read()\n",
    "    if ret==True:\n",
    "    \n",
    "\n",
    "        out.write(frame)\n",
    "        cv2.imshow('frame',frame)\n",
    "        if cv2.waitKey(1) & 0xFF == ord('q'):\n",
    "            break\n",
    "    else:\n",
    "        break\n",
    "cap.release()\n",
    "\n",
    "out.release()\n",
    "\n",
    "cv2.destroyAllWindows() \n"
   ]
  },
  {
   "cell_type": "code",
   "execution_count": 28,
   "metadata": {},
   "outputs": [],
   "source": [
    "cap=cv2.VideoCapture(\"Resources/Cars.mp4\")\n",
    "fourcc = cv2.VideoWriter_fourcc(*'MJPG')\n",
    "out=cv2.VideoWriter(\"Resources/Video/video5.avi\",fourcc,10,(640,360))\n",
    "for i in range(20):\n",
    "    ret, frame = cap.read()\n",
    "    if ret==True:\n",
    "    \n",
    "\n",
    "        out.write(frame)\n",
    "        cv2.imshow('frame',frame)\n",
    "        if cv2.waitKey(1) & 0xFF == ord('q'):\n",
    "            break\n",
    "    else:\n",
    "        break\n",
    "cap.release()\n",
    "\n",
    "out.release()\n",
    "\n",
    "cv2.destroyAllWindows()\n"
   ]
  },
  {
   "cell_type": "code",
   "execution_count": 30,
   "metadata": {},
   "outputs": [],
   "source": [
    "cap=cv2.VideoCapture(\"Resources/Cars.mp4\")\n",
    "fourcc = cv2.VideoWriter_fourcc(*'MJPG')\n",
    "out=cv2.VideoWriter(\"Resources/Video/video55.avi\",fourcc,20,(640,360))\n",
    "for i in range(20):\n",
    "    ret, frame = cap.read()\n",
    "    if ret==True:\n",
    "    \n",
    "\n",
    "        out.write(frame)\n",
    "        cv2.imshow('frame',frame)\n",
    "        if cv2.waitKey(1) & 0xFF == ord('q'):\n",
    "            break\n",
    "    else:\n",
    "        break\n",
    "cap.release()\n",
    "\n",
    "out.release()\n",
    "\n",
    "cv2.destroyAllWindows()"
   ]
  },
  {
   "cell_type": "code",
   "execution_count": 31,
   "metadata": {},
   "outputs": [],
   "source": [
    "import os\n"
   ]
  },
  {
   "cell_type": "code",
   "execution_count": 35,
   "metadata": {},
   "outputs": [
    {
     "name": "stdout",
     "output_type": "stream",
     "text": [
      "6918166\n",
      "214736\n",
      "9662010\n",
      "344919\n",
      "339272\n",
      "339272\n"
     ]
    }
   ],
   "source": [
    "print(os.path.getsize(\"Resources/Video/video1.avi\"))\n",
    "t1=os.path.getsize(\"Resources/Video/video1.avi\")\n",
    "print(os.path.getsize(\"Resources/Video/video2.avi\"))\n",
    "print(os.path.getsize(\"Resources/Video/video3.mp4\"))\n",
    "print(os.path.getsize(\"Resources/Video/video4.mp4\"))\n",
    "print(os.path.getsize(\"Resources/Video/video5.avi\"))\n",
    "print(os.path.getsize(\"Resources/Video/video55.avi\"))\n",
    "t2=os.path.getsize(\"Resources/Video/video2.avi\")\n",
    "t3=os.path.getsize(\"Resources/Video/video3.mp4\")\n",
    "t4=os.path.getsize(\"Resources/Video/video4.mp4\")\n",
    "t5=os.path.getsize(\"Resources/Video/video5.avi\")"
   ]
  },
  {
   "cell_type": "code",
   "execution_count": 36,
   "metadata": {},
   "outputs": [
    {
     "name": "stdout",
     "output_type": "stream",
     "text": [
      "0.9495441528809011\n",
      "0.029473318971102048\n",
      "1.3261470020489239\n",
      "0.047341422519715126\n",
      "0.04656635065365721\n"
     ]
    }
   ],
   "source": [
    "tcars=os.path.getsize(\"Resources/Cars.mp4\")\n",
    "\n",
    "tauxcomp1=t1/tcars\n",
    "tauxcomp2=t2/tcars\n",
    "tauxcomp3=t3/tcars\n",
    "tauxcomp4=t4/tcars\n",
    "tauxcomp5=t5/tcars\n",
    "\n",
    "print(tauxcomp1)\n",
    "print(tauxcomp2)\n",
    "print(tauxcomp3)\n",
    "print(tauxcomp4)\n",
    "print(tauxcomp5)"
   ]
  },
  {
   "cell_type": "markdown",
   "metadata": {},
   "source": [
    "le taux de compression varie selon le fourcc avec la compression FMP4 est la meilleure puis\n",
    "XVID-MJPG-PIM4\n"
   ]
  },
  {
   "cell_type": "code",
   "execution_count": null,
   "metadata": {},
   "outputs": [],
   "source": []
  }
 ],
 "metadata": {
  "kernelspec": {
   "display_name": "Python 3.10.8 64-bit",
   "language": "python",
   "name": "python3"
  },
  "language_info": {
   "codemirror_mode": {
    "name": "ipython",
    "version": 3
   },
   "file_extension": ".py",
   "mimetype": "text/x-python",
   "name": "python",
   "nbconvert_exporter": "python",
   "pygments_lexer": "ipython3",
   "version": "3.10.8"
  },
  "orig_nbformat": 4,
  "vscode": {
   "interpreter": {
    "hash": "02f233c1bb37aa2433c299d2e4f8365f47568f469376a90e5e6d4408f23a3bd4"
   }
  }
 },
 "nbformat": 4,
 "nbformat_minor": 2
}
